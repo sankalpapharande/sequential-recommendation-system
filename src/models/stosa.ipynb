{
  "cells": [
    {
      "cell_type": "code",
      "execution_count": null,
      "metadata": {
        "id": "pfOzpdBdOIKK"
      },
      "outputs": [],
      "source": [
        "import os\n",
        "from pathlib import Path\n",
        "\n",
        "os.chdir('/content/drive/MyDrive/hnm')\n",
        "DATA_PATH = Path.cwd() / 'data'\n",
        "RAW = DATA_PATH / 'raw'\n",
        "PROCESSED = DATA_PATH / 'processed'\n",
        "SUBMISSION = DATA_PATH / 'submission'\n",
        "\n",
        "os.chdir('/content/drive/MyDrive/hnm/STOSA2')\n",
        "\n",
        "import numpy as np\n",
        "import pandas as pd\n",
        "import random\n",
        "import pickle\n",
        "import argparse\n",
        "\n",
        "import time\n",
        "from datetime import timedelta\n",
        "\n",
        "import torch\n",
        "from torch.utils.data import DataLoader, RandomSampler, SequentialSampler\n",
        "\n",
        "from datasets import SASRecDataset\n",
        "from trainers import FinetuneTrainer, DistSAModelTrainer\n",
        "from models import S3RecModel\n",
        "from seqmodels import SASRecModel, DistSAModel, DistMeanSAModel\n",
        "from utils import EarlyStopping, get_user_seqs, get_item2attribute_json, check_path, set_seed"
      ]
    },
    {
      "cell_type": "code",
      "source": [
        "parser = argparse.ArgumentParser()\n",
        "\n",
        "parser.add_argument('--data_dir', default=str(f'{PROCESSED}/'), type=str)\n",
        "parser.add_argument('--output_dir', default=str(f'{SUBMISSION}/'), type=str)\n",
        "parser.add_argument('--data_name', default='transactions_train_sequences', type=str)\n",
        "parser.add_argument('--do_eval', action='store_true')\n",
        "parser.add_argument('--ckp', default=10, type=int, help=\"pretrain epochs 10, 20, 30...\")\n",
        "\n",
        "# model args\n",
        "parser.add_argument(\"--model_name\", default='DistSAModel', type=str)\n",
        "parser.add_argument(\"--hidden_size\", type=int, default=128, help=\"hidden size of transformer model\")\n",
        "parser.add_argument(\"--num_hidden_layers\", type=int, default=1, help=\"number of layers\")\n",
        "parser.add_argument('--num_attention_heads', default=4, type=int)\n",
        "parser.add_argument('--hidden_act', default=\"gelu\", type=str) # gelu relu\n",
        "parser.add_argument(\"--attention_probs_dropout_prob\", type=float, default=0.0, help=\"attention dropout p\")\n",
        "parser.add_argument(\"--hidden_dropout_prob\", type=float, default=0.3, help=\"hidden dropout p\")\n",
        "parser.add_argument(\"--initializer_range\", type=float, default=0.02)\n",
        "parser.add_argument('--max_seq_length', default=50, type=int)\n",
        "parser.add_argument('--distance_metric', default='wasserstein', type=str)\n",
        "parser.add_argument('--pvn_weight', default=0.005, type=float)\n",
        "parser.add_argument('--kernel_param', default=1.0, type=float)\n",
        "\n",
        "# train args\n",
        "parser.add_argument(\"--lr\", type=float, default=0.01, help=\"learning rate of adam\")\n",
        "parser.add_argument(\"--batch_size\", type=int, default=4096, help=\"number of batch_size\")\n",
        "parser.add_argument(\"--epochs\", type=int, default=20, help=\"number of epochs\")\n",
        "parser.add_argument(\"--no_cuda\", action=\"store_true\")\n",
        "parser.add_argument(\"--log_freq\", type=int, default=1, help=\"per epoch print res\")\n",
        "parser.add_argument(\"--seed\", default=42, type=int)\n",
        "\n",
        "parser.add_argument(\"--weight_decay\", type=float, default=0.0, help=\"weight_decay of adam\")\n",
        "parser.add_argument(\"--adam_beta1\", type=float, default=0.9, help=\"adam first beta value\")\n",
        "parser.add_argument(\"--adam_beta2\", type=float, default=0.999, help=\"adam second beta value\")\n",
        "parser.add_argument(\"--gpu_id\", type=str, default=\"0\", help=\"gpu_id\")\n",
        "\n",
        "parser.add_argument('-f')\n",
        "args = parser.parse_args() \n",
        "\n",
        "set_seed(args.seed)\n",
        "check_path(args.output_dir)\n",
        "\n",
        "os.environ[\"CUDA_VISIBLE_DEVICES\"] = args.gpu_id\n",
        "args.cuda_condition = torch.cuda.is_available() and not args.no_cuda\n",
        "\n",
        "args.data_file = args.data_dir + args.data_name + '.txt'\n",
        "#item2attribute_file = args.data_dir + args.data_name + '_item2attributes.json'\n",
        "\n",
        "user_seq, max_item, valid_rating_matrix, test_rating_matrix, num_users = get_user_seqs(args.data_file)"
      ],
      "metadata": {
        "colab": {
          "base_uri": "https://localhost:8080/"
        },
        "id": "KX20aBZSN_7p",
        "outputId": "11c2cd56-451a-4df6-9cb7-823b36efdc49"
      },
      "execution_count": null,
      "outputs": [
        {
          "output_type": "stream",
          "name": "stderr",
          "text": [
            "100%|██████████| 226844/226844 [03:31<00:00, 1072.19it/s]\n"
          ]
        }
      ]
    },
    {
      "cell_type": "code",
      "source": [
        "args.item_size = max_item + 2\n",
        "args.num_users = num_users\n",
        "args.mask_id = max_item + 1\n",
        "\n",
        "# save model args\n",
        "args_str = f'{args.model_name}-{args.data_name}-{args.hidden_size}-{args.num_hidden_layers}-{args.num_attention_heads}-{args.hidden_act}-{args.attention_probs_dropout_prob}-{args.hidden_dropout_prob}-{args.max_seq_length}-{args.lr}-{args.weight_decay}-{args.ckp}-{args.kernel_param}-{args.pvn_weight}'\n",
        "args.log_file = os.path.join(args.output_dir, args_str + '.txt')\n",
        "print(str(args))\n",
        "with open(args.log_file, 'a') as f:\n",
        "    f.write(str(args) + '\\n')\n",
        "\n",
        "args.train_matrix = valid_rating_matrix\n",
        "\n",
        "# save model\n",
        "checkpoint = args_str + '.pt'\n",
        "args.checkpoint_path = os.path.join(args.output_dir, checkpoint)\n",
        "\n",
        "train_dataset = SASRecDataset(args, user_seq, data_type='train')\n",
        "train_sampler = RandomSampler(train_dataset)\n",
        "train_dataloader = DataLoader(train_dataset, sampler=train_sampler, batch_size=args.batch_size)\n",
        "\n",
        "eval_dataset = SASRecDataset(args, user_seq, data_type='valid')\n",
        "eval_sampler = SequentialSampler(eval_dataset)\n",
        "#eval_dataloader = DataLoader(eval_dataset, sampler=eval_sampler, batch_size=200)\n",
        "\n",
        "test_dataset = SASRecDataset(args, user_seq, data_type='test')\n",
        "test_sampler = SequentialSampler(test_dataset)\n",
        "#test_dataloader = DataLoader(test_dataset, sampler=test_sampler, batch_size=200)\n",
        "\n",
        "model = DistSAModel(args=args)\n",
        "eval_dataloader = DataLoader(eval_dataset, sampler=eval_sampler, batch_size=100)\n",
        "test_dataloader = DataLoader(test_dataset, sampler=test_sampler, batch_size=100)\n",
        "trainer = DistSAModelTrainer(model, train_dataloader, eval_dataloader,\n",
        "                            test_dataloader, args)\n"
      ],
      "metadata": {
        "colab": {
          "base_uri": "https://localhost:8080/"
        },
        "id": "vt0w1IrjU-eq",
        "outputId": "3ba4e138-abd7-4b20-d61b-e256100c30b9"
      },
      "execution_count": null,
      "outputs": [
        {
          "output_type": "stream",
          "name": "stdout",
          "text": [
            "Namespace(adam_beta1=0.9, adam_beta2=0.999, attention_probs_dropout_prob=0.0, batch_size=4096, ckp=10, cuda_condition=True, data_dir='/content/drive/MyDrive/hnm/data/processed/', data_file='/content/drive/MyDrive/hnm/data/processed/transactions_train_sequences.txt', data_name='transactions_train_sequences', distance_metric='wasserstein', do_eval=False, epochs=20, f='/root/.local/share/jupyter/runtime/kernel-0866f846-d5e7-46a3-8495-11f2752e3bdb.json', gpu_id='0', hidden_act='gelu', hidden_dropout_prob=0.3, hidden_size=128, initializer_range=0.02, item_size=51962, kernel_param=1.0, log_file='/content/drive/MyDrive/hnm/data/submission/DistSAModel-transactions_train_sequences-128-1-4-gelu-0.0-0.3-50-0.01-0.0-10-1.0-0.005.txt', log_freq=1, lr=0.01, mask_id=51961, max_seq_length=50, model_name='DistSAModel', no_cuda=False, num_attention_heads=4, num_hidden_layers=1, num_users=226844, output_dir='/content/drive/MyDrive/hnm/data/submission/', pvn_weight=0.005, seed=42, weight_decay=0.0)\n",
            "Total Parameters: 13938460\n"
          ]
        }
      ]
    },
    {
      "cell_type": "code",
      "source": [
        "if args.do_eval:\n",
        "    trainer.load(args.checkpoint_path)\n",
        "    print(f'Load model from {args.checkpoint_path} for test!')\n",
        "    scores, result_info, _ = trainer.test(0, full_sort=True)\n",
        "\n",
        "else:\n",
        "    if args.model_name == 'DistSAModel':\n",
        "        early_stopping = EarlyStopping(args.checkpoint_path, patience=100, verbose=True)\n",
        "    else:\n",
        "        early_stopping = EarlyStopping(args.checkpoint_path, patience=50, verbose=True)\n",
        "    fstart = time.time()\n",
        "    for epoch in range(args.epochs):\n",
        "        start = time.time()\n",
        "        trainer.train(epoch)\n",
        "        scores, _, _ = trainer.valid(epoch, full_sort=True)\n",
        "        early_stopping(np.array(scores[-1:]), trainer.model)\n",
        "        if early_stopping.early_stop:\n",
        "            print(\"Early stopping\")\n",
        "            break\n",
        "        end = time.time()\n",
        "        time_taken = end - start\n",
        "        time_taken_delta = str(timedelta(seconds=time_taken))\n",
        "        print(f'\\n\\n--- epoch:{epoch}\\t time taken:{time_taken_delta} ----\\n\\n')\n",
        "    fend = time.time()\n",
        "    ttime = fend - fstart\n",
        "    ttime_delta = str(timedelta(seconds=ttime))\n",
        "    print(f'\\n\\n --- Total time taken:{ttime_delta} ---\\n\\n')\n",
        "\n",
        "    # load the best model\n",
        "    trainer.model.load_state_dict(torch.load(args.checkpoint_path))\n",
        "\n",
        "with open(args.log_file, 'a') as f:\n",
        "    f.write(args_str + '\\n')\n",
        "    f.write(result_info + '\\n')"
      ],
      "metadata": {
        "colab": {
          "base_uri": "https://localhost:8080/"
        },
        "id": "kmwqpRzTpBBx",
        "outputId": "ae5947c5-3dc3-4404-eae9-52811542947b"
      },
      "execution_count": null,
      "outputs": [
        {
          "output_type": "stream",
          "name": "stdout",
          "text": [
            "{'epoch': 0, 'rec_avg_loss': '0.4527', 'rec_cur_loss': '0.3321', 'rec_avg_auc': '0.872821', 'rec_avg_pvn_loss': '0.162465'}\n",
            "Saving model ...\n",
            "\n",
            "\n",
            "--- epoch:0\t time taken:0:06:02.359433 ----\n",
            "\n",
            "\n",
            "{'epoch': 1, 'rec_avg_loss': '0.2727', 'rec_cur_loss': '0.2371', 'rec_avg_auc': '0.915838', 'rec_avg_pvn_loss': '0.069788'}\n",
            "Saving model ...\n",
            "\n",
            "\n",
            "--- epoch:1\t time taken:0:06:12.922196 ----\n",
            "\n",
            "\n",
            "{'epoch': 2, 'rec_avg_loss': '0.2035', 'rec_cur_loss': '0.1847', 'rec_avg_auc': '0.927768', 'rec_avg_pvn_loss': '0.026091'}\n",
            "Saving model ...\n",
            "\n",
            "\n",
            "--- epoch:2\t time taken:0:06:09.388339 ----\n",
            "\n",
            "\n",
            "{'epoch': 3, 'rec_avg_loss': '0.1714', 'rec_cur_loss': '0.1643', 'rec_avg_auc': '0.934190', 'rec_avg_pvn_loss': '0.009595'}\n",
            "Saving model ...\n",
            "\n",
            "\n",
            "--- epoch:3\t time taken:0:05:55.222684 ----\n",
            "\n",
            "\n",
            "{'epoch': 4, 'rec_avg_loss': '0.1552', 'rec_cur_loss': '0.1552', 'rec_avg_auc': '0.939173', 'rec_avg_pvn_loss': '0.005913'}\n",
            "Saving model ...\n",
            "\n",
            "\n",
            "--- epoch:4\t time taken:0:05:54.284162 ----\n",
            "\n",
            "\n",
            "{'epoch': 5, 'rec_avg_loss': '0.1452', 'rec_cur_loss': '0.1446', 'rec_avg_auc': '0.942382', 'rec_avg_pvn_loss': '0.004196'}\n",
            "Saving model ...\n",
            "\n",
            "\n",
            "--- epoch:5\t time taken:0:05:59.238338 ----\n",
            "\n",
            "\n",
            "{'epoch': 6, 'rec_avg_loss': '0.1386', 'rec_cur_loss': '0.1388', 'rec_avg_auc': '0.944538', 'rec_avg_pvn_loss': '0.003227'}\n",
            "Saving model ...\n",
            "\n",
            "\n",
            "--- epoch:6\t time taken:0:05:58.281657 ----\n",
            "\n",
            "\n",
            "{'epoch': 7, 'rec_avg_loss': '0.1336', 'rec_cur_loss': '0.1359', 'rec_avg_auc': '0.946218', 'rec_avg_pvn_loss': '0.002593'}\n",
            "Saving model ...\n",
            "\n",
            "\n",
            "--- epoch:7\t time taken:0:06:03.541660 ----\n",
            "\n",
            "\n",
            "{'epoch': 8, 'rec_avg_loss': '0.1299', 'rec_cur_loss': '0.1325', 'rec_avg_auc': '0.947391', 'rec_avg_pvn_loss': '0.002151'}\n",
            "EarlyStopping counter: 1 out of 100\n",
            "\n",
            "\n",
            "--- epoch:8\t time taken:0:06:09.510193 ----\n",
            "\n",
            "\n",
            "{'epoch': 9, 'rec_avg_loss': '0.1265', 'rec_cur_loss': '0.1292', 'rec_avg_auc': '0.948614', 'rec_avg_pvn_loss': '0.001842'}\n",
            "Saving model ...\n",
            "\n",
            "\n",
            "--- epoch:9\t time taken:0:06:02.854630 ----\n",
            "\n",
            "\n",
            "{'epoch': 10, 'rec_avg_loss': '0.1240', 'rec_cur_loss': '0.1247', 'rec_avg_auc': '0.949533', 'rec_avg_pvn_loss': '0.001599'}\n",
            "Saving model ...\n",
            "\n",
            "\n",
            "--- epoch:10\t time taken:0:06:04.064668 ----\n",
            "\n",
            "\n",
            "{'epoch': 11, 'rec_avg_loss': '0.1214', 'rec_cur_loss': '0.1233', 'rec_avg_auc': '0.950549', 'rec_avg_pvn_loss': '0.001428'}\n",
            "Saving model ...\n",
            "\n",
            "\n",
            "--- epoch:11\t time taken:0:06:04.326884 ----\n",
            "\n",
            "\n",
            "{'epoch': 12, 'rec_avg_loss': '0.1197', 'rec_cur_loss': '0.1210', 'rec_avg_auc': '0.951126', 'rec_avg_pvn_loss': '0.001266'}\n",
            "Saving model ...\n",
            "\n",
            "\n",
            "--- epoch:12\t time taken:0:06:04.734802 ----\n",
            "\n",
            "\n",
            "{'epoch': 13, 'rec_avg_loss': '0.1179', 'rec_cur_loss': '0.1188', 'rec_avg_auc': '0.951830', 'rec_avg_pvn_loss': '0.001130'}\n",
            "Saving model ...\n",
            "\n",
            "\n",
            "--- epoch:13\t time taken:0:06:03.444665 ----\n",
            "\n",
            "\n",
            "{'epoch': 14, 'rec_avg_loss': '0.1168', 'rec_cur_loss': '0.1176', 'rec_avg_auc': '0.952307', 'rec_avg_pvn_loss': '0.001022'}\n",
            "Saving model ...\n",
            "\n",
            "\n",
            "--- epoch:14\t time taken:0:06:12.560492 ----\n",
            "\n",
            "\n",
            "{'epoch': 15, 'rec_avg_loss': '0.1157', 'rec_cur_loss': '0.1154', 'rec_avg_auc': '0.952668', 'rec_avg_pvn_loss': '0.000918'}\n",
            "Saving model ...\n",
            "\n",
            "\n",
            "--- epoch:15\t time taken:0:06:12.588495 ----\n",
            "\n",
            "\n",
            "{'epoch': 16, 'rec_avg_loss': '0.1148', 'rec_cur_loss': '0.1184', 'rec_avg_auc': '0.953010', 'rec_avg_pvn_loss': '0.000849'}\n",
            "Saving model ...\n",
            "\n",
            "\n",
            "--- epoch:16\t time taken:0:06:10.158837 ----\n",
            "\n",
            "\n",
            "{'epoch': 17, 'rec_avg_loss': '0.1139', 'rec_cur_loss': '0.1178', 'rec_avg_auc': '0.953489', 'rec_avg_pvn_loss': '0.000769'}\n",
            "EarlyStopping counter: 1 out of 100\n",
            "\n",
            "\n",
            "--- epoch:17\t time taken:0:06:03.192607 ----\n",
            "\n",
            "\n",
            "{'epoch': 18, 'rec_avg_loss': '0.1135', 'rec_cur_loss': '0.1135', 'rec_avg_auc': '0.953708', 'rec_avg_pvn_loss': '0.000712'}\n",
            "EarlyStopping counter: 2 out of 100\n",
            "\n",
            "\n",
            "--- epoch:18\t time taken:0:06:07.739626 ----\n",
            "\n",
            "\n",
            "{'epoch': 19, 'rec_avg_loss': '0.1127', 'rec_cur_loss': '0.1137', 'rec_avg_auc': '0.954005', 'rec_avg_pvn_loss': '0.000648'}\n",
            "EarlyStopping counter: 3 out of 100\n",
            "\n",
            "\n",
            "--- epoch:19\t time taken:0:06:08.048582 ----\n",
            "\n",
            "\n",
            "\n",
            "\n",
            " --- Total time taken:2:01:38.465570 ---\n",
            "\n",
            "\n"
          ]
        }
      ]
    },
    {
      "cell_type": "code",
      "source": [
        "def get_predicted_item_ids(batch):\n",
        "    with torch.no_grad():\n",
        "        i = 0\n",
        "        # 0. batch_data will be sent into the device(GPU or cpu)\n",
        "        batch = tuple(t.to(device) for t in batch)\n",
        "        user_ids, input_ids, target_pos, target_neg, answers = batch\n",
        "        recommend_mean_output, recommend_cov_output, _, _ = trainer.model.finetune(input_ids, user_ids)\n",
        "\n",
        "        recommend_mean_output = recommend_mean_output[:, -1, :]\n",
        "        recommend_cov_output = recommend_cov_output[:, -1, :]\n",
        "        \n",
        "        rating_pred = trainer.dist_predict_full(recommend_mean_output, recommend_cov_output)\n",
        "\n",
        "        rating_pred = rating_pred.cpu().data.numpy().copy()\n",
        "        batch_user_index = user_ids.cpu().numpy()\n",
        "    \n",
        "        rating_pred[trainer.args.train_matrix[batch_user_index].toarray() > 0] = 1e+24\n",
        "        \n",
        "        # reference: https://stackoverflow.com/a/23734295, https://stackoverflow.com/a/20104162\n",
        "        ind = np.argpartition(rating_pred, 40)[:, :40]\n",
        "        \n",
        "        #ind = np.argpartition(rating_pred, -40)[:, -40:]\n",
        "        arr_ind = rating_pred[np.arange(len(rating_pred))[:, None], ind]\n",
        "        \n",
        "        # ascending order\n",
        "        arr_ind_argsort = np.argsort(arr_ind)[np.arange(len(rating_pred)), ::]\n",
        "    \n",
        "        #arr_ind_argsort = np.argsort(arr_ind)[np.arange(len(rating_pred)), ::-1]\n",
        "        batch_pred_list = ind[np.arange(len(rating_pred))[:, None], arr_ind_argsort]\n",
        "\n",
        "    return user_ids, batch_pred_list"
      ],
      "metadata": {
        "id": "ANg125Y2qJWf"
      },
      "execution_count": null,
      "outputs": []
    },
    {
      "cell_type": "code",
      "source": [
        "from tqdm import tqdm \n",
        "\n",
        "device = torch.device(\"cuda\" if trainer.model.args.cuda_condition else \"cpu\")\n",
        "\n",
        "users_predicted = []\n",
        "users_predictions = []\n",
        "\n",
        "i = 0 \n",
        "for i, batch in tqdm(enumerate(test_dataloader), total=len(test_dataloader)):\n",
        "    user_ids, batch_pred_list = get_predicted_item_ids(batch)\n",
        "\n",
        "    user_ids_list = user_ids.detach().cpu().numpy().tolist()\n",
        "    item_ids_list = np.array(batch_pred_list.tolist()).astype(np.int64).tolist()\n",
        "    \n",
        "    if i == 0:\n",
        "        users_predicted = user_ids_list\n",
        "        users_predictions = item_ids_list\n",
        "    else:\n",
        "        users_predicted += user_ids_list\n",
        "        users_predictions += item_ids_list"
      ],
      "metadata": {
        "id": "uQ3AUVW8qPCB",
        "colab": {
          "base_uri": "https://localhost:8080/"
        },
        "outputId": "83bf97ce-f95e-49c3-c1b4-52254ef5f7a0"
      },
      "execution_count": null,
      "outputs": [
        {
          "output_type": "stream",
          "name": "stderr",
          "text": [
            "100%|██████████| 2269/2269 [04:07<00:00,  9.18it/s]\n"
          ]
        }
      ]
    },
    {
      "cell_type": "code",
      "source": [
        "import json\n",
        "\n",
        "with open(PROCESSED / 'umap.json') as f:\n",
        "  user_map = json.load(f)\n",
        "\n",
        "with open(PROCESSED / 'imap.json') as f:\n",
        "  item_map = json.load(f)"
      ],
      "metadata": {
        "id": "pX_1uC3KcXOv"
      },
      "execution_count": null,
      "outputs": []
    },
    {
      "cell_type": "code",
      "source": [
        "user_map_inv = {user_map[elem]:elem for elem in user_map}\n",
        "item_map_inv = {item_map[elem]:elem for elem in item_map}"
      ],
      "metadata": {
        "id": "4YpVWfKbMYmm"
      },
      "execution_count": null,
      "outputs": []
    },
    {
      "cell_type": "code",
      "source": [
        "d = {}\n",
        "\n",
        "for i in range(len(users_predicted)):\n",
        "    uinv = user_map_inv[users_predicted[i]+1]\n",
        "    pinv = [item_map_inv[elem] for elem in users_predictions[i] if elem != 0][0:12]\n",
        "\n",
        "    if uinv in d:\n",
        "        print('Error')\n",
        "        break\n",
        "    \n",
        "    d[uinv] = ' '.join(pinv)"
      ],
      "metadata": {
        "id": "oDFqX1jWMZWE"
      },
      "execution_count": null,
      "outputs": []
    },
    {
      "cell_type": "code",
      "source": [
        "fname = str(f'{PROCESSED}')+'/stosa_pred_dict.json'\n",
        "\n",
        "with open(fname, 'w') as f:\n",
        "    json.dump(d, f)"
      ],
      "metadata": {
        "id": "jo1sPZQCpbF0"
      },
      "execution_count": null,
      "outputs": []
    },
    {
      "cell_type": "code",
      "source": [
        ""
      ],
      "metadata": {
        "id": "vclnZvbVMZpt"
      },
      "execution_count": null,
      "outputs": []
    }
  ],
  "metadata": {
    "accelerator": "GPU",
    "colab": {
      "machine_shape": "hm",
      "name": "stosa.ipynb",
      "provenance": [],
      "collapsed_sections": []
    },
    "kernelspec": {
      "display_name": "Python 3",
      "name": "python3"
    },
    "language_info": {
      "name": "python"
    }
  },
  "nbformat": 4,
  "nbformat_minor": 0
}