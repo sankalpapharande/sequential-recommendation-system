{
  "nbformat": 4,
  "nbformat_minor": 0,
  "metadata": {
    "colab": {
      "name": "Untitled4.ipynb",
      "provenance": []
    },
    "kernelspec": {
      "name": "python3",
      "display_name": "Python 3"
    },
    "language_info": {
      "name": "python"
    }
  },
  "cells": [
    {
      "cell_type": "markdown",
      "source": [
        "**Content-Based:12 most popular items**\n",
        "\n",
        "\n",
        "\n",
        "```\n",
        "For users who have less than 2 purchased items, 12 most popular items are recommended\n",
        "```\n",
        "\n"
      ],
      "metadata": {
        "id": "jg7siTvKFw1A"
      }
    },
    {
      "cell_type": "code",
      "execution_count": 1,
      "metadata": {
        "id": "-_0jRvCVY_yc"
      },
      "outputs": [],
      "source": [
        "import time\n",
        "import numpy as np\n",
        "import pandas as pd\n",
        "\n",
        "import multiprocessing as mp\n",
        "from multiprocessing import Pool\n",
        "from functools import partial"
      ]
    },
    {
      "cell_type": "code",
      "source": [
        "from google.colab import drive\n",
        "drive.mount('/gdrive')"
      ],
      "metadata": {
        "colab": {
          "base_uri": "https://localhost:8080/"
        },
        "id": "gpxbFb1aZDJy",
        "outputId": "0b3c4f53-f2a7-4492-85c2-a7909d670d9e"
      },
      "execution_count": 2,
      "outputs": [
        {
          "output_type": "stream",
          "name": "stdout",
          "text": [
            "Mounted at /gdrive\n"
          ]
        }
      ]
    },
    {
      "cell_type": "code",
      "source": [
        "import os"
      ],
      "metadata": {
        "id": "wEZzVOCyZKm9"
      },
      "execution_count": 3,
      "outputs": []
    },
    {
      "cell_type": "code",
      "source": [
        "root= '/gdrive/MyDrive/hnm/data/'\n",
        "csv_train = os.path.join(root,'raw/transactions_train.csv')\n",
        "csv_sub = os.path.join(root, 'raw/sample_submission.csv')\n",
        "csv_users = os.path.join(root, 'raw/customers.csv')\n",
        "csv_items = os.path.join(root, 'raw/articles.csv')"
      ],
      "metadata": {
        "id": "fK8FDu6gZOAN"
      },
      "execution_count": 4,
      "outputs": []
    },
    {
      "cell_type": "code",
      "source": [
        "df = pd.read_csv(csv_train, dtype={'article_id': str})\n",
        "df_sub = pd.read_csv(csv_sub)\n",
        "df_sub.head"
      ],
      "metadata": {
        "colab": {
          "base_uri": "https://localhost:8080/"
        },
        "id": "Mwb-uvteZVeM",
        "outputId": "51c105fa-f75e-4141-efba-f51283f2375a"
      },
      "execution_count": 5,
      "outputs": [
        {
          "output_type": "execute_result",
          "data": {
            "text/plain": [
              "<bound method NDFrame.head of                                                customer_id  \\\n",
              "0        00000dbacae5abe5e23885899a1fa44253a17956c6d1c3...   \n",
              "1        0000423b00ade91418cceaf3b26c6af3dd342b51fd051e...   \n",
              "2        000058a12d5b43e67d225668fa1f8d618c13dc232df0ca...   \n",
              "3        00005ca1c9ed5f5146b52ac8639a40ca9d57aeff4d1bd2...   \n",
              "4        00006413d8573cd20ed7128e53b7b13819fe5cfc2d801f...   \n",
              "...                                                    ...   \n",
              "1371975  ffffbbf78b6eaac697a8a5dfbfd2bfa8113ee5b403e474...   \n",
              "1371976  ffffcd5046a6143d29a04fb8c424ce494a76e5cdf4fab5...   \n",
              "1371977  ffffcf35913a0bee60e8741cb2b4e78b8a98ee5ff2e6a1...   \n",
              "1371978  ffffd7744cebcf3aca44ae7049d2a94b87074c3d4ffe38...   \n",
              "1371979  ffffd9ac14e89946416d80e791d064701994755c3ab686...   \n",
              "\n",
              "                                                prediction  \n",
              "0        0706016001 0706016002 0372860001 0610776002 07...  \n",
              "1        0706016001 0706016002 0372860001 0610776002 07...  \n",
              "2        0706016001 0706016002 0372860001 0610776002 07...  \n",
              "3        0706016001 0706016002 0372860001 0610776002 07...  \n",
              "4        0706016001 0706016002 0372860001 0610776002 07...  \n",
              "...                                                    ...  \n",
              "1371975  0706016001 0706016002 0372860001 0610776002 07...  \n",
              "1371976  0706016001 0706016002 0372860001 0610776002 07...  \n",
              "1371977  0706016001 0706016002 0372860001 0610776002 07...  \n",
              "1371978  0706016001 0706016002 0372860001 0610776002 07...  \n",
              "1371979  0706016001 0706016002 0372860001 0610776002 07...  \n",
              "\n",
              "[1371980 rows x 2 columns]>"
            ]
          },
          "metadata": {},
          "execution_count": 5
        }
      ]
    },
    {
      "cell_type": "code",
      "source": [
        "df.t_dat.max()"
      ],
      "metadata": {
        "colab": {
          "base_uri": "https://localhost:8080/",
          "height": 37
        },
        "id": "wbp_Rr3sZd5P",
        "outputId": "cd4280e3-68fb-4d74-a3c9-2530e43db259"
      },
      "execution_count": 6,
      "outputs": [
        {
          "output_type": "execute_result",
          "data": {
            "text/plain": [
              "'2020-09-22'"
            ],
            "application/vnd.google.colaboratory.intrinsic+json": {
              "type": "string"
            }
          },
          "metadata": {},
          "execution_count": 6
        }
      ]
    },
    {
      "cell_type": "code",
      "source": [
        "top_12_items = df[df['t_dat'] > '2020-09-01'].groupby('article_id')['customer_id'].nunique().sort_values(ascending=False).head(12).index.tolist()\n",
        "top_12_items"
      ],
      "metadata": {
        "colab": {
          "base_uri": "https://localhost:8080/"
        },
        "id": "078ylqH4ZkWY",
        "outputId": "ef8f7416-fa15-4845-d248-fcf1deca6c28"
      },
      "execution_count": 7,
      "outputs": [
        {
          "output_type": "execute_result",
          "data": {
            "text/plain": [
              "['0918522001',\n",
              " '0909370001',\n",
              " '0751471001',\n",
              " '0924243001',\n",
              " '0918292001',\n",
              " '0915529003',\n",
              " '0915526001',\n",
              " '0751471043',\n",
              " '0448509014',\n",
              " '0706016001',\n",
              " '0863595006',\n",
              " '0865799006']"
            ]
          },
          "metadata": {},
          "execution_count": 7
        }
      ]
    },
    {
      "cell_type": "code",
      "source": [
        "df_sub['prediction'] =  ' '.join(top_12_items)\n",
        "df_sub.columns=['customer_id','prediction']\n",
        "df_sub.iloc[1]\n"
      ],
      "metadata": {
        "colab": {
          "base_uri": "https://localhost:8080/"
        },
        "id": "zMqi3z3yZoNA",
        "outputId": "ff9bf6a4-4621-436f-9edb-afd92040637f"
      },
      "execution_count": 11,
      "outputs": [
        {
          "output_type": "execute_result",
          "data": {
            "text/plain": [
              "customer_id    0000423b00ade91418cceaf3b26c6af3dd342b51fd051e...\n",
              "prediction     0918522001 0909370001 0751471001 0924243001 09...\n",
              "Name: 1, dtype: object"
            ]
          },
          "metadata": {},
          "execution_count": 11
        }
      ]
    },
    {
      "cell_type": "code",
      "source": [
        "submission=pd.read_csv('/submission-3.csv')\n",
        "\n",
        "submission.columns=['customer_id','prediction']\n",
        "submission.head\n",
        "#submission=submission.dropna()"
      ],
      "metadata": {
        "colab": {
          "base_uri": "https://localhost:8080/"
        },
        "id": "qcAFwiGYaiN8",
        "outputId": "4dcab6e8-fc87-44c6-f1aa-88dc6665cd9f"
      },
      "execution_count": 20,
      "outputs": [
        {
          "output_type": "execute_result",
          "data": {
            "text/plain": [
              "<bound method NDFrame.head of                                              customer_id  \\\n",
              "0      0000423b00ade91418cceaf3b26c6af3dd342b51fd051e...   \n",
              "1      000058a12d5b43e67d225668fa1f8d618c13dc232df0ca...   \n",
              "2      00007d2de826758b65a93dd24ce629ed66842531df6699...   \n",
              "3      0003abe64294e66a6310c3436fa9e5b754cc5603deef4f...   \n",
              "4      0004068f54dbe1c7054b23c615edc5f733a508ecc54930...   \n",
              "...                                                  ...   \n",
              "18720  fff0ac18093a702a0a06f4cc76582632df3ede9a36556e...   \n",
              "18721  fff15526121f7d914a54784e68761a1d30b7547e355573...   \n",
              "18722  fff3e75605ec575be9b95eda1e6557299e81bba12668d7...   \n",
              "18723  fff4b145d7469e023b147b0f8375c565b1be4394498779...   \n",
              "18724  fff627c97a69e53afb4a2b49a3ebf7fa06660afaac959b...   \n",
              "\n",
              "                                              prediction  \n",
              "0      [578430002, 639552001, 583558001, 617620003, 5...  \n",
              "1      [663713001, 541518023, 464277014, 611415005, 5...  \n",
              "2      [505221004, 685687003, 685687004, 685687001, 5...  \n",
              "3      [531310002, 529841001, 501820043, 640174002, 6...  \n",
              "4      [648968003, 590165002, 658183002, 625321005, 6...  \n",
              "...                                                  ...  \n",
              "18720  [692454002, 617322003, 620405001, 613456009, 6...  \n",
              "18721  [255396006, 474088001, 401044012, 642437005, 4...  \n",
              "18722  [663713001, 541518023, 464277014, 611415005, 5...  \n",
              "18723                                                 []  \n",
              "18724  [564786020, 655347002, 655347007, 500780006, 6...  \n",
              "\n",
              "[18725 rows x 2 columns]>"
            ]
          },
          "metadata": {},
          "execution_count": 20
        }
      ]
    },
    {
      "cell_type": "code",
      "source": [
        "a=submission['customer_id']\n",
        "df_sub=df_sub.drop(df_sub[df_sub['customer_id'].isin(a)].index)"
      ],
      "metadata": {
        "id": "hOX3RQHrd8sT"
      },
      "execution_count": 28,
      "outputs": []
    },
    {
      "cell_type": "code",
      "source": [
        "df_sub.shape"
      ],
      "metadata": {
        "colab": {
          "base_uri": "https://localhost:8080/"
        },
        "id": "yUe0w1oBhIIf",
        "outputId": "3491a381-ff70-435b-905b-5ec8f70c96e5"
      },
      "execution_count": 29,
      "outputs": [
        {
          "output_type": "execute_result",
          "data": {
            "text/plain": [
              "(1353255, 2)"
            ]
          },
          "metadata": {},
          "execution_count": 29
        }
      ]
    },
    {
      "cell_type": "code",
      "source": [
        ""
      ],
      "metadata": {
        "id": "lDittz28hY7C"
      },
      "execution_count": null,
      "outputs": []
    },
    {
      "cell_type": "code",
      "source": [
        "df_union=pd.concat([df_sub,submission])"
      ],
      "metadata": {
        "id": "mtzRjDJohjxo"
      },
      "execution_count": 30,
      "outputs": []
    },
    {
      "cell_type": "code",
      "source": [
        "df_union.to_csv('final_submission')"
      ],
      "metadata": {
        "id": "lH1-4Bldhq8P"
      },
      "execution_count": 42,
      "outputs": []
    },
    {
      "cell_type": "code",
      "source": [
        "df_union=df_union.set_index('customer_id')\n",
        "df_union.head"
      ],
      "metadata": {
        "colab": {
          "base_uri": "https://localhost:8080/"
        },
        "id": "6zzDNtG8jnIH",
        "outputId": "203d0f4b-3472-42a8-e6ad-5c64a12a978d"
      },
      "execution_count": 41,
      "outputs": [
        {
          "output_type": "execute_result",
          "data": {
            "text/plain": [
              "<bound method NDFrame.head of                                                                                            prediction\n",
              "customer_id                                                                                          \n",
              "00000dbacae5abe5e23885899a1fa44253a17956c6d1c3d...  0918522001 0909370001 0751471001 0924243001 09...\n",
              "00005ca1c9ed5f5146b52ac8639a40ca9d57aeff4d1bd2c...  0918522001 0909370001 0751471001 0924243001 09...\n",
              "00006413d8573cd20ed7128e53b7b13819fe5cfc2d801fe...  0918522001 0909370001 0751471001 0924243001 09...\n",
              "000064249685c11552da43ef22a5030f35a147f723d5b02...  0918522001 0909370001 0751471001 0924243001 09...\n",
              "0000757967448a6cb83efb3ea7a3fb9d418ac7adf2379d8...  0918522001 0909370001 0751471001 0924243001 09...\n",
              "...                                                                                               ...\n",
              "fff0ac18093a702a0a06f4cc76582632df3ede9a36556e3...  [692454002, 617322003, 620405001, 613456009, 6...\n",
              "fff15526121f7d914a54784e68761a1d30b7547e3555738...  [255396006, 474088001, 401044012, 642437005, 4...\n",
              "fff3e75605ec575be9b95eda1e6557299e81bba12668d75...  [663713001, 541518023, 464277014, 611415005, 5...\n",
              "fff4b145d7469e023b147b0f8375c565b1be43944987792...                                                 []\n",
              "fff627c97a69e53afb4a2b49a3ebf7fa06660afaac959b4...  [564786020, 655347002, 655347007, 500780006, 6...\n",
              "\n",
              "[1371980 rows x 1 columns]>"
            ]
          },
          "metadata": {},
          "execution_count": 41
        }
      ]
    },
    {
      "cell_type": "code",
      "source": [
        ""
      ],
      "metadata": {
        "id": "XPInbSPPkpR2"
      },
      "execution_count": null,
      "outputs": []
    },
    {
      "cell_type": "code",
      "source": [
        "df_union.head"
      ],
      "metadata": {
        "colab": {
          "base_uri": "https://localhost:8080/"
        },
        "id": "m3N_OUfci3wx",
        "outputId": "7310d4cf-bf95-4baf-cef9-e0113cee5128"
      },
      "execution_count": 35,
      "outputs": [
        {
          "output_type": "execute_result",
          "data": {
            "text/plain": [
              "<bound method NDFrame.head of                                              customer_id  \\\n",
              "0      00000dbacae5abe5e23885899a1fa44253a17956c6d1c3...   \n",
              "3      00005ca1c9ed5f5146b52ac8639a40ca9d57aeff4d1bd2...   \n",
              "4      00006413d8573cd20ed7128e53b7b13819fe5cfc2d801f...   \n",
              "5      000064249685c11552da43ef22a5030f35a147f723d5b0...   \n",
              "6      0000757967448a6cb83efb3ea7a3fb9d418ac7adf2379d...   \n",
              "...                                                  ...   \n",
              "18720  fff0ac18093a702a0a06f4cc76582632df3ede9a36556e...   \n",
              "18721  fff15526121f7d914a54784e68761a1d30b7547e355573...   \n",
              "18722  fff3e75605ec575be9b95eda1e6557299e81bba12668d7...   \n",
              "18723  fff4b145d7469e023b147b0f8375c565b1be4394498779...   \n",
              "18724  fff627c97a69e53afb4a2b49a3ebf7fa06660afaac959b...   \n",
              "\n",
              "                                              prediction  \n",
              "0      0918522001 0909370001 0751471001 0924243001 09...  \n",
              "3      0918522001 0909370001 0751471001 0924243001 09...  \n",
              "4      0918522001 0909370001 0751471001 0924243001 09...  \n",
              "5      0918522001 0909370001 0751471001 0924243001 09...  \n",
              "6      0918522001 0909370001 0751471001 0924243001 09...  \n",
              "...                                                  ...  \n",
              "18720  [692454002, 617322003, 620405001, 613456009, 6...  \n",
              "18721  [255396006, 474088001, 401044012, 642437005, 4...  \n",
              "18722  [663713001, 541518023, 464277014, 611415005, 5...  \n",
              "18723                                                 []  \n",
              "18724  [564786020, 655347002, 655347007, 500780006, 6...  \n",
              "\n",
              "[1371980 rows x 2 columns]>"
            ]
          },
          "metadata": {},
          "execution_count": 35
        }
      ]
    }
  ]
}
