{
  "nbformat": 4,
  "nbformat_minor": 0,
  "metadata": {
    "colab": {
      "name": "stosa_submission.ipynb",
      "provenance": [],
      "collapsed_sections": []
    },
    "kernelspec": {
      "name": "python3",
      "display_name": "Python 3"
    },
    "language_info": {
      "name": "python"
    }
  },
  "cells": [
    {
      "cell_type": "code",
      "execution_count": null,
      "metadata": {
        "id": "S-kMz4e9lnwh"
      },
      "outputs": [],
      "source": [
        "import os\n",
        "from pathlib import Path\n",
        "\n",
        "os.chdir('/content/drive/MyDrive/hnm')\n",
        "DATA_PATH = Path.cwd() / 'data'\n",
        "RAW = DATA_PATH / 'raw'\n",
        "PROCESSED = DATA_PATH / 'processed'\n",
        "SUBMISSION = DATA_PATH / 'submission'\n",
        "\n",
        "import numpy as np\n",
        "import pandas as pd\n",
        "import json\n",
        "\n",
        "from tqdm import tqdm"
      ]
    },
    {
      "cell_type": "code",
      "source": [
        "enb = pd.read_csv(SUBMISSION / 'ensemble.csv')"
      ],
      "metadata": {
        "id": "_EOf0ePIltpt"
      },
      "execution_count": null,
      "outputs": []
    },
    {
      "cell_type": "code",
      "source": [
        "with open(PROCESSED / 'stosa_pred_dict.json') as f:\n",
        "    d = json.load(f)"
      ],
      "metadata": {
        "id": "mzinQgKXwcfN"
      },
      "execution_count": null,
      "outputs": []
    },
    {
      "cell_type": "code",
      "source": [
        "for id in d:\n",
        "    new = d[id].split(' ')\n",
        "    new = ['0'+elem for elem in new]\n",
        "    d[id] = ' '.join(new)"
      ],
      "metadata": {
        "id": "6c_ulIFQHUSf"
      },
      "execution_count": null,
      "outputs": []
    },
    {
      "cell_type": "code",
      "source": [
        "for i, elem in tqdm(enb.iterrows(), total=enb.shape[0]):\n",
        "    if elem.customer_id in d:\n",
        "        elem.prediction = d[elem.customer_id]"
      ],
      "metadata": {
        "colab": {
          "base_uri": "https://localhost:8080/"
        },
        "id": "UMDqBMY1mvcA",
        "outputId": "5e7ffb27-dd4a-4521-cbc8-e3658cbee8c7"
      },
      "execution_count": null,
      "outputs": [
        {
          "output_type": "stream",
          "name": "stderr",
          "text": [
            "100%|██████████| 1371980/1371980 [01:40<00:00, 13708.33it/s]\n"
          ]
        }
      ]
    },
    {
      "cell_type": "code",
      "source": [
        "enb.to_csv(SUBMISSION / 'stosa.csv', index=False)"
      ],
      "metadata": {
        "id": "hcpT3HPAqaCj"
      },
      "execution_count": null,
      "outputs": []
    },
    {
      "cell_type": "code",
      "source": [
        ""
      ],
      "metadata": {
        "id": "-n4B1RvzHCoQ"
      },
      "execution_count": null,
      "outputs": []
    }
  ]
}