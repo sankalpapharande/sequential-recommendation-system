{
  "nbformat": 4,
  "nbformat_minor": 0,
  "metadata": {
    "colab": {
      "name": "SASRec_submission.ipynb",
      "provenance": [],
      "machine_shape": "hm",
      "collapsed_sections": []
    },
    "kernelspec": {
      "name": "python3",
      "display_name": "Python 3"
    },
    "language_info": {
      "name": "python"
    },
    "accelerator": "GPU"
  },
  "cells": [
    {
      "cell_type": "code",
      "source": [
        "# !pip install recbole"
      ],
      "metadata": {
        "id": "no0elOvI4V6W"
      },
      "execution_count": null,
      "outputs": []
    },
    {
      "cell_type": "code",
      "execution_count": null,
      "metadata": {
        "id": "6WZXR7-ilNjI"
      },
      "outputs": [],
      "source": [
        "import os\n",
        "from pathlib import Path\n",
        "\n",
        "os.chdir('/content/drive/MyDrive/hnm')\n",
        "DATA_PATH = Path.cwd() / 'data'\n",
        "RAW = DATA_PATH / 'raw'\n",
        "PROCESSED = DATA_PATH / 'processed'\n",
        "SUBMISSION = DATA_PATH / 'submission'\n",
        "\n",
        "import pandas as pd\n",
        "import numpy as np\n",
        "\n",
        "from recbole.quick_start.quick_start import load_data_and_model\n",
        "\n",
        "from tqdm import tqdm"
      ]
    },
    {
      "cell_type": "code",
      "source": [
        "config, model, dataset, train_data, valid_data, test_data = load_data_and_model(\n",
        "    model_file='sasrec/saved/SASRec-Mar-30-2022_13-39-54.pth',\n",
        ")"
      ],
      "metadata": {
        "colab": {
          "base_uri": "https://localhost:8080/"
        },
        "id": "SAlxuvVHo_pA",
        "outputId": "de7db8d9-bb3e-4120-eedb-58a19174d8b0"
      },
      "execution_count": null,
      "outputs": [
        {
          "output_type": "stream",
          "name": "stderr",
          "text": [
            "20 Apr 14:50    INFO  \n",
            "General Hyper Parameters:\n",
            "gpu_id = 0\n",
            "use_gpu = True\n",
            "seed = 2020\n",
            "state = INFO\n",
            "reproducibility = True\n",
            "data_path = /content/drive/MyDrive/hnm/data/processed/recbox_data\n",
            "checkpoint_dir = saved\n",
            "show_progress = True\n",
            "save_dataset = False\n",
            "dataset_save_path = None\n",
            "save_dataloaders = False\n",
            "dataloaders_save_path = None\n",
            "log_wandb = False\n",
            "\n",
            "Training Hyper Parameters:\n",
            "epochs = 50\n",
            "train_batch_size = 4096\n",
            "learner = adam\n",
            "learning_rate = 0.01\n",
            "neg_sampling = None\n",
            "eval_step = 1\n",
            "stopping_step = 10\n",
            "clip_grad_norm = None\n",
            "weight_decay = 0.0\n",
            "loss_decimal_place = 4\n",
            "\n",
            "Evaluation Hyper Parameters:\n",
            "eval_args = {'split': {'RS': [9, 0, 1]}, 'group_by': 'user', 'order': 'TO', 'mode': 'full'}\n",
            "repeatable = True\n",
            "metrics = ['MAP']\n",
            "topk = [12]\n",
            "valid_metric = MAP@12\n",
            "valid_metric_bigger = True\n",
            "eval_batch_size = 4096\n",
            "metric_decimal_place = 4\n",
            "\n",
            "Dataset Hyper Parameters:\n",
            "field_separator = \t\n",
            "seq_separator =  \n",
            "USER_ID_FIELD = user_id\n",
            "ITEM_ID_FIELD = item_id\n",
            "RATING_FIELD = rating\n",
            "TIME_FIELD = timestamp\n",
            "seq_len = None\n",
            "LABEL_FIELD = label\n",
            "threshold = None\n",
            "NEG_PREFIX = neg_\n",
            "load_col = {'inter': ['user_id', 'item_id', 'timestamp']}\n",
            "unload_col = None\n",
            "unused_col = None\n",
            "additional_feat_suffix = None\n",
            "rm_dup_inter = None\n",
            "val_interval = None\n",
            "filter_inter_by_user_or_item = True\n",
            "user_inter_num_interval = [30,inf)\n",
            "item_inter_num_interval = [30,inf)\n",
            "alias_of_user_id = None\n",
            "alias_of_item_id = None\n",
            "alias_of_entity_id = None\n",
            "alias_of_relation_id = None\n",
            "preload_weight = None\n",
            "normalize_field = None\n",
            "normalize_all = None\n",
            "ITEM_LIST_LENGTH_FIELD = item_length\n",
            "LIST_SUFFIX = _list\n",
            "MAX_ITEM_LIST_LENGTH = 50\n",
            "POSITION_FIELD = position_id\n",
            "HEAD_ENTITY_ID_FIELD = head_id\n",
            "TAIL_ENTITY_ID_FIELD = tail_id\n",
            "RELATION_ID_FIELD = relation_id\n",
            "ENTITY_ID_FIELD = entity_id\n",
            "benchmark_filename = None\n",
            "\n",
            "Other Hyper Parameters: \n",
            "wandb_project = recbole\n",
            "require_pow = False\n",
            "n_layers = 2\n",
            "n_heads = 2\n",
            "hidden_size = 64\n",
            "inner_size = 256\n",
            "hidden_dropout_prob = 0.5\n",
            "attn_dropout_prob = 0.5\n",
            "hidden_act = gelu\n",
            "layer_norm_eps = 1e-12\n",
            "initializer_range = 0.02\n",
            "loss_type = CE\n",
            "MODEL_TYPE = ModelType.SEQUENTIAL\n",
            "MODEL_INPUT_TYPE = InputType.POINTWISE\n",
            "eval_type = EvaluatorType.RANKING\n",
            "device = cuda\n",
            "train_neg_sample_args = {'strategy': 'none'}\n",
            "eval_neg_sample_args = {'strategy': 'full', 'distribution': 'uniform'}\n",
            "\n",
            "\n",
            "20 Apr 14:55    INFO  recbox_data\n",
            "The number of users: 306733\n",
            "Average actions of users: 72.26853735508521\n",
            "The number of items: 59157\n",
            "Average actions of items: 374.72231050104807\n",
            "The number of inters: 22167073\n",
            "The sparsity of the dataset: 99.8778364322941%\n",
            "Remain Fields: ['user_id', 'item_id', 'timestamp']\n",
            "20 Apr 14:59    INFO  [Training]: train_batch_size = [4096] negative sampling: [None]\n",
            "20 Apr 14:59    INFO  [Evaluation]: eval_batch_size = [4096] eval_args: [{'split': {'RS': [9, 0, 1]}, 'group_by': 'user', 'order': 'TO', 'mode': 'full'}]\n"
          ]
        }
      ]
    },
    {
      "cell_type": "code",
      "source": [
        "ext_user_ids = dataset.id2token(dataset.uid_field, list(range(dataset.user_num)))[1:]"
      ],
      "metadata": {
        "id": "L_NCkQxUrN71"
      },
      "execution_count": null,
      "outputs": []
    },
    {
      "cell_type": "code",
      "source": [
        "import torch\n",
        "from recbole.data.interaction import Interaction\n",
        "\n",
        "def add_last_item(old_interaction, last_item_id, max_len=50):\n",
        "    new_seq_items = old_interaction['item_id_list'][-1]\n",
        "    if old_interaction['item_length'][-1].item() < max_len:\n",
        "        new_seq_items[old_interaction['item_length'][-1].item()] = last_item_id\n",
        "    else:\n",
        "        new_seq_items = torch.roll(new_seq_items, -1)\n",
        "        new_seq_items[-1] = last_item_id\n",
        "    return new_seq_items.view(1, len(new_seq_items))\n",
        "\n",
        "def predict_for_all_item(external_user_id, dataset, model):\n",
        "    model.eval()\n",
        "    with torch.no_grad():\n",
        "        uid_series = dataset.token2id(dataset.uid_field, [external_user_id])\n",
        "        index = np.isin(dataset[dataset.uid_field].numpy(), uid_series)\n",
        "        input_interaction = dataset[index]\n",
        "        test = {\n",
        "            'item_id_list': add_last_item(input_interaction, \n",
        "                                          input_interaction['item_id'][-1].item(), model.max_seq_length),\n",
        "            'item_length': torch.tensor(\n",
        "                [input_interaction['item_length'][-1].item() + 1\n",
        "                 if input_interaction['item_length'][-1].item() < model.max_seq_length else model.max_seq_length])\n",
        "        }\n",
        "        new_inter = Interaction(test)\n",
        "        new_inter = new_inter.to(config['device'])\n",
        "        new_scores = model.full_sort_predict(new_inter)\n",
        "        new_scores = new_scores.view(-1, test_data.dataset.item_num)\n",
        "        new_scores[:, 0] = -np.inf  # set scores of [pad] to -inf\n",
        "    return torch.topk(new_scores, 10)"
      ],
      "metadata": {
        "id": "RRTSDH8hq_x4"
      },
      "execution_count": null,
      "outputs": []
    },
    {
      "cell_type": "code",
      "source": [
        "from recbole.utils.case_study import full_sort_topk\n",
        "\n",
        "external_user_ids = dataset.id2token(dataset.uid_field, list(range(dataset.user_num)))[1:]\n",
        "\n",
        "topk_items = []\n",
        "for internal_user_id in tqdm(list(range(dataset.user_num))[1:]):\n",
        "    _, topk_iid_list = full_sort_topk([internal_user_id], model, test_data, k=12, device=config['device'])\n",
        "    last_topk_iid_list = topk_iid_list[-1]\n",
        "    external_item_list = dataset.id2token(dataset.iid_field, last_topk_iid_list.cpu()).tolist()\n",
        "    topk_items.append(external_item_list)"
      ],
      "metadata": {
        "id": "1Mc8h34utQUx",
        "colab": {
          "base_uri": "https://localhost:8080/"
        },
        "outputId": "ab9a64b8-e6bb-42a5-fec6-43646fefd021"
      },
      "execution_count": null,
      "outputs": [
        {
          "output_type": "stream",
          "name": "stderr",
          "text": [
            "100%|██████████| 306732/306732 [26:24<00:00, 193.61it/s]\n"
          ]
        }
      ]
    },
    {
      "cell_type": "code",
      "source": [
        "revtopk = []\n",
        "\n",
        "for row in tqdm(topk_items):\n",
        "    revrow = ['0'+elem for elem in row]\n",
        "    revtopk.append(revrow)"
      ],
      "metadata": {
        "colab": {
          "base_uri": "https://localhost:8080/"
        },
        "id": "SiZnsbfpnLM3",
        "outputId": "6f0ebd41-0eee-4d88-abc6-c95dff925e40"
      },
      "execution_count": null,
      "outputs": [
        {
          "output_type": "stream",
          "name": "stderr",
          "text": [
            "100%|██████████| 306732/306732 [00:01<00:00, 297433.17it/s]\n"
          ]
        }
      ]
    },
    {
      "cell_type": "code",
      "source": [
        "external_item_str = [' '.join(x) for x in revtopk]\n"
      ],
      "metadata": {
        "id": "OsQ_rFXCtSIv"
      },
      "execution_count": null,
      "outputs": []
    },
    {
      "cell_type": "code",
      "source": [
        "d = {}\n",
        "\n",
        "for i in tqdm(range(len(external_user_ids))):\n",
        "    if external_user_ids[i] in d:\n",
        "        print('Error')\n",
        "        break\n",
        "    \n",
        "    d[external_user_ids[i]] = external_item_str[i]\n"
      ],
      "metadata": {
        "colab": {
          "base_uri": "https://localhost:8080/"
        },
        "id": "oyFk2HDloEfP",
        "outputId": "9b99f77a-7461-4801-e308-5f53dae42cb6"
      },
      "execution_count": null,
      "outputs": [
        {
          "output_type": "stream",
          "name": "stderr",
          "text": [
            "100%|██████████| 306732/306732 [00:00<00:00, 599700.76it/s]\n"
          ]
        }
      ]
    },
    {
      "cell_type": "code",
      "source": [
        "enb = pd.read_csv(SUBMISSION / 'ensemble_b.csv')\n"
      ],
      "metadata": {
        "id": "fS9cdlTIoVPv"
      },
      "execution_count": null,
      "outputs": []
    },
    {
      "cell_type": "code",
      "source": [
        "for i, elem in tqdm(enb.iterrows(), total=enb.shape[0]):\n",
        "    if elem.customer_id in d:\n",
        "        elem.prediction = d[elem.customer_id]"
      ],
      "metadata": {
        "colab": {
          "base_uri": "https://localhost:8080/"
        },
        "id": "RWoe-WS7ogpn",
        "outputId": "9a156c06-3752-4153-e4c7-0840252bf30a"
      },
      "execution_count": null,
      "outputs": [
        {
          "output_type": "stream",
          "name": "stderr",
          "text": [
            "100%|██████████| 1371980/1371980 [01:18<00:00, 17505.81it/s]\n"
          ]
        }
      ]
    },
    {
      "cell_type": "code",
      "source": [
        "enb.to_csv(SUBMISSION / 'SASRec.csv', index=False)"
      ],
      "metadata": {
        "id": "o0C8lNnaolFY"
      },
      "execution_count": null,
      "outputs": []
    }
  ]
}